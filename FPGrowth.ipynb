{
 "cells": [
  {
   "cell_type": "code",
   "execution_count": 2,
   "metadata": {
    "collapsed": false
   },
   "outputs": [
    {
     "name": "stdout",
     "output_type": "stream",
     "text": [
      "<pyspark.context.SparkContext object at 0x00000000042C8D30>\n"
     ]
    }
   ],
   "source": [
    "# Konfigurasi Spark\n",
    "import os\n",
    "import sys\n",
    "\n",
    "# 1. Mengeset variabel yang menyimpan lokasi di mana Spark diinstal\n",
    "spark_path = \"C:/spark\"\n",
    "\n",
    "# 2. Menentukan environment variable SPARK_HOME\n",
    "os.environ['SPARK_HOME'] = spark_path\n",
    "\n",
    "# 3. Simpan lokasi winutils.exe sebagai environment variable HADOOP_HOME\n",
    "os.environ['HADOOP_HOME'] = spark_path\n",
    "\n",
    "# 4. Lokasi Python yang dijalankan --> punya Anaconda\n",
    "#    Apabila Python yang diinstall hanya Anaconda, maka tidak perlu menjalankan baris ini.\n",
    "os.environ['PYSPARK_PYTHON'] = sys.executable\n",
    "\n",
    "# 5. Konfigurasi path library PySpark\n",
    "sys.path.append(spark_path + \"/bin\")\n",
    "sys.path.append(spark_path + \"/python\")\n",
    "sys.path.append(spark_path + \"/python/pyspark/\")\n",
    "sys.path.append(spark_path + \"/python/lib\")\n",
    "sys.path.append(spark_path + \"/python/lib/pyspark.zip\")\n",
    "sys.path.append(spark_path + \"/python/lib/py4j-0.10.4-src.zip\")\n",
    "\n",
    "# 6. Import library Spark\n",
    "#    Dua library yang WAJIB di-import adalah **SparkContext** dan **SparkConf**.\n",
    "from pyspark import SparkContext\n",
    "from pyspark import SparkConf\n",
    "\n",
    "# Setting konfigurasi (opsional)\n",
    "conf = SparkConf()\n",
    "conf.set(\"spark.executor.memory\", \"2g\")\n",
    "conf.set(\"spark.cores.max\", \"4\")\n",
    "\n",
    "sc = SparkContext(\"local\", conf=conf)\n",
    "#    Apabila berhasil, maka ketika sc di-print akan mengeluarkan nilai <pyspark.context.SparkContext object>\n",
    "print sc"
   ]
  },
  {
   "cell_type": "code",
   "execution_count": 14,
   "metadata": {
    "collapsed": false
   },
   "outputs": [
    {
     "name": "stdout",
     "output_type": "stream",
     "text": [
      "FreqItemset(items=[u'Suprek'], freq=5)\n",
      "FreqItemset(items=[u'Hoobla'], freq=11)\n",
      "FreqItemset(items=[u'Chaopok'], freq=5)\n",
      "FreqItemset(items=[u'TaichanSekLa'], freq=9)\n",
      "FreqItemset(items=[u'NobeeKitchen'], freq=9)\n",
      "FreqItemset(items=[u'NobeeKitchen', u'TaichanSekLa'], freq=6)\n",
      "FreqItemset(items=[u'Milo'], freq=4)\n",
      "FreqItemset(items=[u'Milo', u'Hoobla'], freq=4)\n",
      "FreqItemset(items=[u'Tongji'], freq=4)\n",
      "FreqItemset(items=[u'Tongji', u'Hoobla'], freq=4)\n",
      "FreqItemset(items=[u'Yakisoba'], freq=7)\n",
      "FreqItemset(items=[u'Kaleci'], freq=4)\n",
      "FreqItemset(items=[u'Kaleci', u'Chaopok'], freq=4)\n",
      "FreqItemset(items=[u'MilkshakePouch'], freq=7)\n",
      "FreqItemset(items=[u'Quinny'], freq=7)\n",
      "FreqItemset(items=[u'Quinny', u'MilkshakePouch'], freq=4)\n",
      "FreqItemset(items=[u'Sukita'], freq=4)\n",
      "FreqItemset(items=[u'GOBER'], freq=6)\n",
      "FreqItemset(items=[u'KAAKGeprek'], freq=5)\n",
      "FreqItemset(items=[u'Tropis'], freq=5)\n",
      "FreqItemset(items=[u'PentolGila'], freq=5)\n"
     ]
    }
   ],
   "source": [
    "from pyspark.mllib.fpm import FPGrowth\n",
    "\n",
    "data = sc.textFile(\"Tenant.txt\")\n",
    "transactions = data.map(lambda line: line.strip().split(' '))\n",
    "model = FPGrowth.train(transactions, minSupport=0.1, numPartitions=10)\n",
    "result = model.freqItemsets().collect()\n",
    "for fi in result:\n",
    "    print(fi)"
   ]
  }
 ],
 "metadata": {
  "kernelspec": {
   "display_name": "Python 2",
   "language": "python",
   "name": "python2"
  },
  "language_info": {
   "codemirror_mode": {
    "name": "ipython",
    "version": 2
   },
   "file_extension": ".py",
   "mimetype": "text/x-python",
   "name": "python",
   "nbconvert_exporter": "python",
   "pygments_lexer": "ipython2",
   "version": "2.7.10"
  }
 },
 "nbformat": 4,
 "nbformat_minor": 0
}
