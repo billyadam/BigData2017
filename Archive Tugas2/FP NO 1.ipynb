{
 "cells": [
  {
   "cell_type": "code",
   "execution_count": 2,
   "metadata": {
    "collapsed": false
   },
   "outputs": [
    {
     "name": "stdout",
     "output_type": "stream",
     "text": [
      "<pyspark.context.SparkContext object at 0x00000000041BACC0>\n"
     ]
    }
   ],
   "source": [
    "# Konfigurasi Spark\n",
    "import os\n",
    "import sys\n",
    "\n",
    "# 1. Mengeset variabel yang menyimpan lokasi di mana Spark diinstal\n",
    "spark_path = \"C:/spark\"\n",
    "\n",
    "# 2. Menentukan environment variable SPARK_HOME\n",
    "os.environ['SPARK_HOME'] = spark_path\n",
    "\n",
    "# 3. Simpan lokasi winutils.exe sebagai environment variable HADOOP_HOME\n",
    "os.environ['HADOOP_HOME'] = spark_path\n",
    "\n",
    "# 4. Lokasi Python yang dijalankan --> punya Anaconda\n",
    "#    Apabila Python yang diinstall hanya Anaconda, maka tidak perlu menjalankan baris ini.\n",
    "os.environ['PYSPARK_PYTHON'] = sys.executable\n",
    "\n",
    "# 5. Konfigurasi path library PySpark\n",
    "sys.path.append(spark_path + \"/bin\")\n",
    "sys.path.append(spark_path + \"/python\")\n",
    "sys.path.append(spark_path + \"/python/pyspark/\")\n",
    "sys.path.append(spark_path + \"/python/lib\")\n",
    "sys.path.append(spark_path + \"/python/lib/pyspark.zip\")\n",
    "sys.path.append(spark_path + \"/python/lib/py4j-0.10.4-src.zip\")\n",
    "\n",
    "# 6. Import library Spark\n",
    "#    Dua library yang WAJIB di-import adalah **SparkContext** dan **SparkConf**.\n",
    "from pyspark import SparkContext\n",
    "from pyspark import SparkConf\n",
    "\n",
    "# Setting konfigurasi (opsional)\n",
    "conf = SparkConf()\n",
    "conf.set(\"spark.executor.memory\", \"2g\")\n",
    "conf.set(\"spark.cores.max\", \"4\")\n",
    "\n",
    "sc = SparkContext(\"local\", conf=conf)\n",
    "#    Apabila berhasil, maka ketika sc di-print akan mengeluarkan nilai <pyspark.context.SparkContext object>\n",
    "print sc"
   ]
  },
  {
   "cell_type": "code",
   "execution_count": 3,
   "metadata": {
    "collapsed": false
   },
   "outputs": [],
   "source": [
    "from pyspark.mllib.fpm import FPGrowth\n",
    "\n",
    "data = sc.textFile(\"train.csv\")\n",
    "transactions = data.filter(lambda x:\"TRIP\" not in x)\n",
    "transactions = transactions.map(lambda line: line.strip().split(','))\n",
    "transaksi = transactions.map(lambda line: [line[i] for i in [6,4]])\n",
    "transaksi = transaksi.filter(lambda x: x[0] == \"\\\"A\\\"\")\n",
    "transaksi = transaksi.filter(lambda x: x[1] is not None)"
   ]
  },
  {
   "cell_type": "code",
   "execution_count": 4,
   "metadata": {
    "collapsed": false
   },
   "outputs": [
    {
     "name": "stdout",
     "output_type": "stream",
     "text": [
      "FreqItemset(items=[u'\"20000080\"', u'\"A\"'], freq=10746)\n",
      "FreqItemset(items=[u'\"20000403\"', u'\"A\"'], freq=9238)\n",
      "FreqItemset(items=[u'\"20000066\"', u'\"A\"'], freq=8449)\n",
      "FreqItemset(items=[u'\"20000364\"', u'\"A\"'], freq=7821)\n",
      "FreqItemset(items=[u'\"20000483\"', u'\"A\"'], freq=7729)\n",
      "FreqItemset(items=[u'\"20000129\"', u'\"A\"'], freq=7609)\n",
      "FreqItemset(items=[u'\"20000307\"', u'\"A\"'], freq=7498)\n",
      "FreqItemset(items=[u'\"20000621\"', u'\"A\"'], freq=7276)\n",
      "FreqItemset(items=[u'\"20000089\"', u'\"A\"'], freq=7267)\n",
      "FreqItemset(items=[u'\"20000424\"', u'\"A\"'], freq=7176)\n",
      "FreqItemset(items=[u'\"20000492\"', u'\"A\"'], freq=7171)\n",
      "FreqItemset(items=[u'\"20000529\"', u'\"A\"'], freq=6937)\n",
      "FreqItemset(items=[u'\"20000616\"', u'\"A\"'], freq=6924)\n"
     ]
    }
   ],
   "source": [
    "# print transaksi.collect()\n",
    "model = FPGrowth.train(transaksi, minSupport=0.004, numPartitions=10)\n",
    "result = sorted(model.freqItemsets().collect(),key = lambda x: x.freq, reverse = True)\n"
   ]
  },
  {
   "cell_type": "code",
   "execution_count": 27,
   "metadata": {
    "collapsed": false
   },
   "outputs": [
    {
     "name": "stdout",
     "output_type": "stream",
     "text": [
      "FreqItemset(items=[u'\"20000080\"', u'\"A\"'], freq=10746)\n",
      "FreqItemset(items=[u'\"20000403\"', u'\"A\"'], freq=9238)\n",
      "FreqItemset(items=[u'\"20000066\"', u'\"A\"'], freq=8449)\n",
      "FreqItemset(items=[u'\"20000364\"', u'\"A\"'], freq=7821)\n",
      "FreqItemset(items=[u'\"20000483\"', u'\"A\"'], freq=7729)\n",
      "FreqItemset(items=[u'\"20000129\"', u'\"A\"'], freq=7609)\n",
      "FreqItemset(items=[u'\"20000307\"', u'\"A\"'], freq=7498)\n",
      "FreqItemset(items=[u'\"20000621\"', u'\"A\"'], freq=7276)\n",
      "FreqItemset(items=[u'\"20000089\"', u'\"A\"'], freq=7267)\n",
      "FreqItemset(items=[u'\"20000424\"', u'\"A\"'], freq=7176)\n",
      "FreqItemset(items=[u'\"20000492\"', u'\"A\"'], freq=7171)\n",
      "FreqItemset(items=[u'\"20000529\"', u'\"A\"'], freq=6937)\n",
      "FreqItemset(items=[u'\"20000616\"', u'\"A\"'], freq=6924)\n"
     ]
    }
   ],
   "source": [
    "results = []\n",
    "freq = []\n",
    "label = []\n",
    "for fi in result:\n",
    "    if len(fi.items) == 2:\n",
    "        results.append(fi)\n",
    "        freq.append(fi.freq)\n",
    "        label.append(fi.items[0])\n",
    "        print fi"
   ]
  },
  {
   "cell_type": "code",
   "execution_count": 39,
   "metadata": {
    "collapsed": false
   },
   "outputs": [
    {
     "data": {
      "image/png": "[encoded data removed]",
      "text/plain": [
       "<matplotlib.figure.Figure at 0xe238748>"
      ]
     },
     "metadata": {},
     "output_type": "display_data"
    }
   ],
   "source": [
    "import numpy as np\n",
    "import matplotlib.pyplot as plt\n",
    "\n",
    "%matplotlib inline\n",
    "\n",
    "N = len(results)\n",
    "\n",
    "\n",
    "ind = np.arange(N)  \n",
    "width = 0.35       \n",
    "\n",
    "fig, ax = plt.subplots()\n",
    "rects1 = ax.bar(ind, freq, width,color='r')\n",
    "\n",
    "\n",
    "ax.set_ylabel('Frequencies')\n",
    "ax.set_title('Stand Frequencies')\n",
    "ax.set_xticks(ind + width)\n",
    "ax.set_xticklabels(label,rotation = 90)\n",
    "\n",
    "\n",
    "\n",
    "def autolabel(rects):\n",
    "    \"\"\"\n",
    "    Attach a text label above each bar displaying its height\n",
    "    \"\"\"\n",
    "    for rect in rects:\n",
    "        height = rect.get_height()\n",
    "        ax.text(rect.get_x() + rect.get_width()/2., 1.05*height,\n",
    "                '%d' % int(height),\n",
    "                ha='center', va='bottom')\n",
    "\n",
    "autolabel(rects1)\n",
    "# autolabel(rects2)\n",
    "\n",
    "plt.show()"
   ]
  },
  {
   "cell_type": "code",
   "execution_count": null,
   "metadata": {
    "collapsed": true
   },
   "outputs": [],
   "source": []
  }
 ],
 "metadata": {
  "kernelspec": {
   "display_name": "Python 2",
   "language": "python",
   "name": "python2"
  },
  "language_info": {
   "codemirror_mode": {
    "name": "ipython",
    "version": 2
   },
   "file_extension": ".py",
   "mimetype": "text/x-python",
   "name": "python",
   "nbconvert_exporter": "python",
   "pygments_lexer": "ipython2",
   "version": "2.7.13"
  }
 },
 "nbformat": 4,
 "nbformat_minor": 0
}
